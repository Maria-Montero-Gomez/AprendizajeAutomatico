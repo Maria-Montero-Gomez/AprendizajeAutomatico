{
  "nbformat": 4,
  "nbformat_minor": 0,
  "metadata": {
    "kernelspec": {
      "display_name": "Python 3",
      "language": "python",
      "name": "python3"
    },
    "language_info": {
      "codemirror_mode": {
        "name": "ipython",
        "version": 3
      },
      "file_extension": ".py",
      "mimetype": "text/x-python",
      "name": "python",
      "nbconvert_exporter": "python",
      "pygments_lexer": "ipython3",
      "version": "3.8.5"
    },
    "colab": {
      "provenance": []
    },
    "accelerator": "GPU",
    "gpuClass": "standard"
  },
  "cells": [
    {
      "cell_type": "markdown",
      "source": [
        "María Montero Gómez\n",
        "\n",
        "\n",
        "\n",
        "\n",
        "24/11/2022"
      ],
      "metadata": {
        "id": "kg8yzHLtrdz-"
      }
    },
    {
      "cell_type": "markdown",
      "metadata": {
        "id": "Ejg7Msp7rbkk"
      },
      "source": [
        "# Ejercicio con regularizadores"
      ]
    },
    {
      "cell_type": "code",
      "source": [
        "%tensorflow_version 2.x\n",
        "import tensorflow as tf\n",
        "from tensorflow import keras\n",
        "print(tf.keras.__version__)\n",
        "print(\"GPU Available:\", tf.config.list_physical_devices('GPU'))\n",
        "print(tf.__version__)\n",
        "from keras.datasets import mnist\n",
        "from keras import models\n",
        "from keras import layers\n",
        "import numpy as np\n",
        "import matplotlib.pyplot as plt\n",
        "from keras import regularizers"
      ],
      "metadata": {
        "id": "BSivef1i532C",
        "colab": {
          "base_uri": "https://localhost:8080/"
        },
        "outputId": "03bfd931-a0a0-4d10-f7ff-9168bc6e139e"
      },
      "execution_count": 1,
      "outputs": [
        {
          "output_type": "stream",
          "name": "stdout",
          "text": [
            "Colab only includes TensorFlow 2.x; %tensorflow_version has no effect.\n",
            "2.9.0\n",
            "GPU Available: [PhysicalDevice(name='/physical_device:GPU:0', device_type='GPU')]\n",
            "2.9.2\n"
          ]
        }
      ]
    },
    {
      "cell_type": "code",
      "source": [
        "(train_images, train_labels), (test_images, test_labels) = mnist.load_data()# Descarga los datos de MNIST"
      ],
      "metadata": {
        "id": "3t3R6gU9-wUy",
        "colab": {
          "base_uri": "https://localhost:8080/"
        },
        "outputId": "1fe84000-a980-419c-fef6-10260a7fa4e5"
      },
      "execution_count": 2,
      "outputs": [
        {
          "output_type": "stream",
          "name": "stdout",
          "text": [
            "Downloading data from https://storage.googleapis.com/tensorflow/tf-keras-datasets/mnist.npz\n",
            "11490434/11490434 [==============================] - 0s 0us/step\n"
          ]
        }
      ]
    },
    {
      "cell_type": "code",
      "source": [
        "# Prepara con reshape y normaliza las imágenes tanto de entrenamiento como de test\n",
        "train_images = train_images.reshape((60000, 28*28))\n",
        "train_images = train_images.astype('float32') / 255\n",
        "\n",
        "test_images = test_images.reshape((10000, 28,28,1))\n",
        "test_images = test_images.astype('float32') / 255\n"
      ],
      "metadata": {
        "id": "H6n5NeSz0U1d"
      },
      "execution_count": 3,
      "outputs": []
    },
    {
      "cell_type": "code",
      "source": [
        "# Crear un subconjunto de imágenes de entrenamiento que llamaré\n",
        "# validation_images, para hacer las validaciones, con las 10000 últimas imágenes \n",
        "# del set de datos de entrenamiento (train_images) (obviamente, lo mismo con las\n",
        "# etiquetas correspondientes -> validation_labels)\n",
        "validation_images=train_images[50000:]\n",
        "validation_labels=train_labels[50000:]\n",
        "# Deja preparadas las 50K \n",
        "# primeras imágenes y etiquetas para entrenamiento (train_images y train_labels)\n",
        "train_images=train_images[0:49999]\n",
        "train_labels=train_labels[0:49999]\n",
        "\n"
      ],
      "metadata": {
        "id": "NKoZGyap0XAj"
      },
      "execution_count": 4,
      "outputs": []
    },
    {
      "cell_type": "code",
      "source": [
        "def crea_modelo(regularizador):\n",
        "  # Define una función que recibe un número del 0 al 4 que creará:\n",
        "  # un modelo secuencial con una capa de entrada densa de 512 neuronas\n",
        "  # con activación relu y la capa de salida que le corresponda según el problema\n",
        "  model = models.Sequential()\n",
        "  # Ahora, en función del número del regularizador:\n",
        "  # Si es 0, no mete ningún regularizador\n",
        "  if regularizador==0:\n",
        "    model.add(layers.Dense(512, activation='relu', input_shape=(28*28,)))\n",
        " # Si es 1, mete un regularizador de tipo l1 y valor 0.001\n",
        "  elif regularizador==1:\n",
        "    model.add(layers.Dense(512, kernel_regularizer=regularizers.l1(0.001), activation='relu', input_shape=(28*28,)))\n",
        "  # Si es 2, mete un regularizador de tipo l2 y valor 0.001 \n",
        "  elif regularizador==2:\n",
        "    model.add(layers.Dense(512, kernel_regularizer=regularizers.l2(0.001), activation='relu', input_shape=(28*28,)))\n",
        "  # Si es 3, mete un regularizador de tipo l1_l2 y valor 0.001 para ambos\n",
        "  elif regularizador==3:\n",
        "    model.add(layers.Dense(512, kernel_regularizer=regularizers.l1_l2(0.001), activation='relu', input_shape=(28*28,)))\n",
        "  # Si es 4, mete un Dropout del 50% después de la primera capa densa\n",
        "  elif regularizador==4:\n",
        "    model.add(layers.Dense(512, activation='relu', input_shape=(28*28,)))\n",
        "    model.add(layers.Dropout(0.6))\n",
        "  # Si es distinto que estos valores, escribe el error y retorna\n",
        "  else:\n",
        "    print(\"Error. Debe ser un número del 0 al 4\")\n",
        "    return 0\n",
        "  # Al final, esta función pinta el summary del modelo y retorna el modelo creado\n",
        "  model.add(layers.Dense(10, activation='softmax'))\n",
        "  model.summary()\n",
        "  return model"
      ],
      "metadata": {
        "id": "6JnVLVfsAfkh"
      },
      "execution_count": 27,
      "outputs": []
    },
    {
      "cell_type": "code",
      "source": [
        "def compila_modelo(modelo): \n",
        "  # Define una función que recibe un modelo, lo compila con un optimizador\n",
        "  # 'rmsprop', con una función de pérdida 'sparse_categorical_crossentropy' y\n",
        "  # una métrica de precisión. \n",
        "  modelo.compile(optimizer='rmsprop', \n",
        "                loss='sparse_categorical_crossentropy',\n",
        "                metrics=['accuracy'])\n",
        "  #La función retorna el modelo\n",
        "  return modelo"
      ],
      "metadata": {
        "id": "qKyJ8KOT0aFt"
      },
      "execution_count": 6,
      "outputs": []
    },
    {
      "cell_type": "code",
      "source": [
        "def entrena_modelo(modelo):\n",
        "  # Define una función que entrena el modelo que se le pasa por parámetro,\n",
        "  # con las imágenes y etiquetas de entrenamiento, con 30 iteraciones y 128\n",
        "  # de tamaño de minilote y con el validation_data creado más arriba.\n",
        "  history=modelo.fit(train_images, \n",
        "                      train_labels, \n",
        "                      epochs=30, \n",
        "                      batch_size=128,\n",
        "                     validation_data=(validation_images,validation_labels))\n",
        "  # Esta función devuelve un history\n",
        "  return history"
      ],
      "metadata": {
        "id": "_yQ7SpOt0cBp"
      },
      "execution_count": 7,
      "outputs": []
    },
    {
      "cell_type": "code",
      "source": [
        "def pinta_perdida_entrenamiento_validacion(historia):\n",
        "  history_dict = historia.history\n",
        "  acc = historia.history['accuracy']\n",
        "  val_acc = historia.history['val_accuracy']\n",
        "  loss = historia.history['loss']\n",
        "  val_loss = historia.history['val_loss']\n",
        "  epochs = range(1, len(acc) + 1)\n",
        "  # \"bo\" es para \"punto azun\"\n",
        "  plt.plot(epochs, loss, 'bo', label='Pérdida de Entrenamiento')\n",
        "  # \"b\" es para \"linea continua azul\"\n",
        "  plt.plot(epochs, val_loss, 'b', label='Pérdida de Validación')\n",
        "  plt.title('Pérdida de Entrenamiento y Validación')\n",
        "  plt.xlabel('Epochs')\n",
        "  plt.ylabel('Loss')\n",
        "  plt.legend()\n",
        "  plt.show()"
      ],
      "metadata": {
        "id": "bJrRNc4WwPN2"
      },
      "execution_count": 8,
      "outputs": []
    },
    {
      "cell_type": "code",
      "source": [
        "def pinta_precision_entrenamiento_validacion(historia):\n",
        "  history_dict = historia.history\n",
        "  acc = historia.history['accuracy']\n",
        "  val_acc = historia.history['val_accuracy']\n",
        "  loss = historia.history['loss']\n",
        "  val_loss = historia.history['val_loss']\n",
        "  plt.clf()   # Limpia la figura\n",
        "  acc_values = history_dict['accuracy']\n",
        "  val_acc_values = history_dict['val_accuracy']\n",
        "  epochs = range(1, len(acc) + 1)\n",
        "  plt.plot(epochs, acc, 'bo', label='Precisión de Entrenamiento')\n",
        "  plt.plot(epochs, val_acc, 'b', label='Precisión de Validación')\n",
        "  plt.title('Precisión de Entrenamiento y Valización')\n",
        "  plt.xlabel('Epochs')\n",
        "  plt.ylabel('Loss')\n",
        "  plt.legend()\n",
        "  plt.show()"
      ],
      "metadata": {
        "id": "Mafxp6D3wYQx"
      },
      "execution_count": 9,
      "outputs": []
    },
    {
      "cell_type": "markdown",
      "source": [
        "## Una vez definidas todas las funciones anteriores, ejecuta las siguientes llamadas a dichas funciones y deduce que está pasando y, para este contexto, que es lo que mejor está funcionando"
      ],
      "metadata": {
        "id": "6nnQYysYA3_T"
      }
    },
    {
      "cell_type": "markdown",
      "source": [
        "### Caso 0, sin regularizadores"
      ],
      "metadata": {
        "id": "OrGwDgaFBax4"
      }
    },
    {
      "cell_type": "code",
      "source": [
        "network0 = crea_modelo(0)"
      ],
      "metadata": {
        "id": "uXvhlXg79Zi9",
        "colab": {
          "base_uri": "https://localhost:8080/"
        },
        "outputId": "61ab7cca-9c8e-4761-b636-1af6f4d27b9a"
      },
      "execution_count": null,
      "outputs": [
        {
          "output_type": "stream",
          "name": "stdout",
          "text": [
            "Model: \"sequential\"\n",
            "_________________________________________________________________\n",
            " Layer (type)                Output Shape              Param #   \n",
            "=================================================================\n",
            " dense (Dense)               (None, 512)               401920    \n",
            "                                                                 \n",
            " dense_1 (Dense)             (None, 10)                5130      \n",
            "                                                                 \n",
            "=================================================================\n",
            "Total params: 407,050\n",
            "Trainable params: 407,050\n",
            "Non-trainable params: 0\n",
            "_________________________________________________________________\n"
          ]
        }
      ]
    },
    {
      "cell_type": "code",
      "source": [
        "network0 = compila_modelo(network0)"
      ],
      "metadata": {
        "id": "Ff0HC3NR9ez8"
      },
      "execution_count": null,
      "outputs": []
    },
    {
      "cell_type": "code",
      "source": [
        "historia0 = entrena_modelo(network0)"
      ],
      "metadata": {
        "id": "x9zQDOlw9g6V",
        "colab": {
          "base_uri": "https://localhost:8080/"
        },
        "outputId": "70fd97f2-b49d-4a30-ed58-b4c7400cb36a"
      },
      "execution_count": null,
      "outputs": [
        {
          "output_type": "stream",
          "name": "stdout",
          "text": [
            "Epoch 1/30\n",
            "391/391 [==============================] - 4s 4ms/step - loss: 0.2811 - accuracy: 0.9186 - val_loss: 0.1350 - val_accuracy: 0.9620\n",
            "Epoch 2/30\n",
            "391/391 [==============================] - 1s 4ms/step - loss: 0.1146 - accuracy: 0.9661 - val_loss: 0.1092 - val_accuracy: 0.9675\n",
            "Epoch 3/30\n",
            "391/391 [==============================] - 2s 4ms/step - loss: 0.0748 - accuracy: 0.9776 - val_loss: 0.0935 - val_accuracy: 0.9710\n",
            "Epoch 4/30\n",
            "391/391 [==============================] - 2s 4ms/step - loss: 0.0540 - accuracy: 0.9843 - val_loss: 0.0890 - val_accuracy: 0.9751\n",
            "Epoch 5/30\n",
            "391/391 [==============================] - 1s 4ms/step - loss: 0.0405 - accuracy: 0.9881 - val_loss: 0.0759 - val_accuracy: 0.9780\n",
            "Epoch 6/30\n",
            "391/391 [==============================] - 2s 4ms/step - loss: 0.0302 - accuracy: 0.9914 - val_loss: 0.0750 - val_accuracy: 0.9785\n",
            "Epoch 7/30\n",
            "391/391 [==============================] - 2s 4ms/step - loss: 0.0227 - accuracy: 0.9933 - val_loss: 0.0750 - val_accuracy: 0.9798\n",
            "Epoch 8/30\n",
            "391/391 [==============================] - 1s 4ms/step - loss: 0.0164 - accuracy: 0.9953 - val_loss: 0.0764 - val_accuracy: 0.9801\n",
            "Epoch 9/30\n",
            "391/391 [==============================] - 2s 4ms/step - loss: 0.0134 - accuracy: 0.9963 - val_loss: 0.0773 - val_accuracy: 0.9804\n",
            "Epoch 10/30\n",
            "391/391 [==============================] - 1s 4ms/step - loss: 0.0098 - accuracy: 0.9974 - val_loss: 0.0858 - val_accuracy: 0.9793\n",
            "Epoch 11/30\n",
            "391/391 [==============================] - 1s 3ms/step - loss: 0.0083 - accuracy: 0.9976 - val_loss: 0.0882 - val_accuracy: 0.9808\n",
            "Epoch 12/30\n",
            "391/391 [==============================] - 1s 3ms/step - loss: 0.0059 - accuracy: 0.9984 - val_loss: 0.0896 - val_accuracy: 0.9815\n",
            "Epoch 13/30\n",
            "391/391 [==============================] - 1s 4ms/step - loss: 0.0044 - accuracy: 0.9990 - val_loss: 0.0953 - val_accuracy: 0.9811\n",
            "Epoch 14/30\n",
            "391/391 [==============================] - 1s 3ms/step - loss: 0.0039 - accuracy: 0.9989 - val_loss: 0.0975 - val_accuracy: 0.9820\n",
            "Epoch 15/30\n",
            "391/391 [==============================] - 1s 4ms/step - loss: 0.0026 - accuracy: 0.9994 - val_loss: 0.0998 - val_accuracy: 0.9801\n",
            "Epoch 16/30\n",
            "391/391 [==============================] - 1s 3ms/step - loss: 0.0022 - accuracy: 0.9995 - val_loss: 0.1051 - val_accuracy: 0.9820\n",
            "Epoch 17/30\n",
            "391/391 [==============================] - 1s 3ms/step - loss: 0.0019 - accuracy: 0.9994 - val_loss: 0.1085 - val_accuracy: 0.9810\n",
            "Epoch 18/30\n",
            "391/391 [==============================] - 1s 3ms/step - loss: 0.0015 - accuracy: 0.9996 - val_loss: 0.1080 - val_accuracy: 0.9816\n",
            "Epoch 19/30\n",
            "391/391 [==============================] - 1s 3ms/step - loss: 0.0014 - accuracy: 0.9997 - val_loss: 0.1150 - val_accuracy: 0.9810\n",
            "Epoch 20/30\n",
            "391/391 [==============================] - 1s 3ms/step - loss: 8.8419e-04 - accuracy: 0.9998 - val_loss: 0.1197 - val_accuracy: 0.9814\n",
            "Epoch 21/30\n",
            "391/391 [==============================] - 1s 4ms/step - loss: 6.4951e-04 - accuracy: 0.9999 - val_loss: 0.1202 - val_accuracy: 0.9815\n",
            "Epoch 22/30\n",
            "391/391 [==============================] - 1s 4ms/step - loss: 5.4648e-04 - accuracy: 0.9999 - val_loss: 0.1228 - val_accuracy: 0.9812\n",
            "Epoch 23/30\n",
            "391/391 [==============================] - 1s 4ms/step - loss: 3.5266e-04 - accuracy: 0.9999 - val_loss: 0.1227 - val_accuracy: 0.9808\n",
            "Epoch 24/30\n",
            "391/391 [==============================] - 1s 4ms/step - loss: 3.3504e-04 - accuracy: 0.9999 - val_loss: 0.1358 - val_accuracy: 0.9804\n",
            "Epoch 25/30\n",
            "391/391 [==============================] - 1s 3ms/step - loss: 3.3956e-04 - accuracy: 0.9999 - val_loss: 0.1330 - val_accuracy: 0.9809\n",
            "Epoch 26/30\n",
            "391/391 [==============================] - 1s 4ms/step - loss: 3.7241e-04 - accuracy: 0.9999 - val_loss: 0.1364 - val_accuracy: 0.9809\n",
            "Epoch 27/30\n",
            "391/391 [==============================] - 1s 4ms/step - loss: 2.7680e-04 - accuracy: 0.9999 - val_loss: 0.1476 - val_accuracy: 0.9807\n",
            "Epoch 28/30\n",
            "391/391 [==============================] - 1s 3ms/step - loss: 1.5025e-04 - accuracy: 1.0000 - val_loss: 0.1502 - val_accuracy: 0.9803\n",
            "Epoch 29/30\n",
            "391/391 [==============================] - 1s 3ms/step - loss: 1.9946e-04 - accuracy: 1.0000 - val_loss: 0.1574 - val_accuracy: 0.9818\n",
            "Epoch 30/30\n",
            "391/391 [==============================] - 1s 4ms/step - loss: 8.7639e-05 - accuracy: 1.0000 - val_loss: 0.1523 - val_accuracy: 0.9810\n"
          ]
        }
      ]
    },
    {
      "cell_type": "code",
      "source": [
        "pinta_perdida_entrenamiento_validacion(historia0)"
      ],
      "metadata": {
        "id": "OvhDZvS8-0mG",
        "colab": {
          "base_uri": "https://localhost:8080/",
          "height": 295
        },
        "outputId": "ae7e610a-510e-42b0-a955-9147cc8f5d66"
      },
      "execution_count": null,
      "outputs": [
        {
          "output_type": "display_data",
          "data": {
            "text/plain": [
              "<Figure size 432x288 with 1 Axes>"
            ],
            "image/png": "[encoded data removed]"
          },
          "metadata": {
            "needs_background": "light"
          }
        }
      ]
    },
    {
      "cell_type": "code",
      "source": [
        "pinta_precision_entrenamiento_validacion(historia0)"
      ],
      "metadata": {
        "id": "UuiL2CCH_fGN",
        "colab": {
          "base_uri": "https://localhost:8080/",
          "height": 295
        },
        "outputId": "7f7f6b9f-561d-4e66-caf9-8d9b9820b13f"
      },
      "execution_count": null,
      "outputs": [
        {
          "output_type": "display_data",
          "data": {
            "text/plain": [
              "<Figure size 432x288 with 1 Axes>"
            ],
            "image/png": "[encoded data removed]"
          },
          "metadata": {
            "needs_background": "light"
          }
        }
      ]
    },
    {
      "cell_type": "markdown",
      "source": [
        "### Caso 1: Con regularizador l1"
      ],
      "metadata": {
        "id": "pw6iBGO5Bg8J"
      }
    },
    {
      "cell_type": "code",
      "source": [
        "network1 = crea_modelo(1)"
      ],
      "metadata": {
        "id": "D6JPtw5zCz-1",
        "colab": {
          "base_uri": "https://localhost:8080/"
        },
        "outputId": "60f0c6b2-bce3-4d20-8d8e-9314a6d348ef"
      },
      "execution_count": null,
      "outputs": [
        {
          "output_type": "stream",
          "name": "stdout",
          "text": [
            "Model: \"sequential_1\"\n",
            "_________________________________________________________________\n",
            " Layer (type)                Output Shape              Param #   \n",
            "=================================================================\n",
            " dense_2 (Dense)             (None, 512)               401920    \n",
            "                                                                 \n",
            " dense_3 (Dense)             (None, 10)                5130      \n",
            "                                                                 \n",
            "=================================================================\n",
            "Total params: 407,050\n",
            "Trainable params: 407,050\n",
            "Non-trainable params: 0\n",
            "_________________________________________________________________\n"
          ]
        }
      ]
    },
    {
      "cell_type": "code",
      "source": [
        "network1 = compila_modelo(network1)"
      ],
      "metadata": {
        "id": "zL3Gp7wvFRq3"
      },
      "execution_count": null,
      "outputs": []
    },
    {
      "cell_type": "code",
      "source": [
        "historia1 = entrena_modelo(network1)"
      ],
      "metadata": {
        "id": "G2FG1Z4xFW72",
        "colab": {
          "base_uri": "https://localhost:8080/"
        },
        "outputId": "0a6f2d5e-edfc-47a1-de45-e28476dca8fc"
      },
      "execution_count": null,
      "outputs": [
        {
          "output_type": "stream",
          "name": "stdout",
          "text": [
            "Epoch 1/30\n",
            "391/391 [==============================] - 2s 4ms/step - loss: 2.1398 - accuracy: 0.8460 - val_loss: 1.0599 - val_accuracy: 0.8645\n",
            "Epoch 2/30\n",
            "391/391 [==============================] - 1s 3ms/step - loss: 0.9581 - accuracy: 0.8818 - val_loss: 0.8075 - val_accuracy: 0.9203\n",
            "Epoch 3/30\n",
            "391/391 [==============================] - 2s 4ms/step - loss: 0.8349 - accuracy: 0.9030 - val_loss: 0.7520 - val_accuracy: 0.9280\n",
            "Epoch 4/30\n",
            "391/391 [==============================] - 1s 3ms/step - loss: 0.7583 - accuracy: 0.9151 - val_loss: 0.7039 - val_accuracy: 0.9339\n",
            "Epoch 5/30\n",
            "391/391 [==============================] - 1s 3ms/step - loss: 0.7095 - accuracy: 0.9232 - val_loss: 0.6466 - val_accuracy: 0.9406\n",
            "Epoch 6/30\n",
            "391/391 [==============================] - 1s 3ms/step - loss: 0.6721 - accuracy: 0.9305 - val_loss: 0.6261 - val_accuracy: 0.9439\n",
            "Epoch 7/30\n",
            "391/391 [==============================] - 1s 4ms/step - loss: 0.6440 - accuracy: 0.9359 - val_loss: 0.6420 - val_accuracy: 0.9354\n",
            "Epoch 8/30\n",
            "391/391 [==============================] - 1s 3ms/step - loss: 0.6207 - accuracy: 0.9392 - val_loss: 0.5944 - val_accuracy: 0.9466\n",
            "Epoch 9/30\n",
            "391/391 [==============================] - 1s 3ms/step - loss: 0.6014 - accuracy: 0.9421 - val_loss: 0.5808 - val_accuracy: 0.9473\n",
            "Epoch 10/30\n",
            "391/391 [==============================] - 1s 3ms/step - loss: 0.5842 - accuracy: 0.9448 - val_loss: 0.5763 - val_accuracy: 0.9491\n",
            "Epoch 11/30\n",
            "391/391 [==============================] - 1s 4ms/step - loss: 0.5715 - accuracy: 0.9469 - val_loss: 0.5359 - val_accuracy: 0.9556\n",
            "Epoch 12/30\n",
            "391/391 [==============================] - 1s 3ms/step - loss: 0.5619 - accuracy: 0.9481 - val_loss: 0.5928 - val_accuracy: 0.9383\n",
            "Epoch 13/30\n",
            "391/391 [==============================] - 1s 4ms/step - loss: 0.5531 - accuracy: 0.9490 - val_loss: 0.5444 - val_accuracy: 0.9536\n",
            "Epoch 14/30\n",
            "391/391 [==============================] - 1s 3ms/step - loss: 0.5452 - accuracy: 0.9511 - val_loss: 0.5846 - val_accuracy: 0.9428\n",
            "Epoch 15/30\n",
            "391/391 [==============================] - 1s 3ms/step - loss: 0.5380 - accuracy: 0.9519 - val_loss: 0.5869 - val_accuracy: 0.9333\n",
            "Epoch 16/30\n",
            "391/391 [==============================] - 2s 4ms/step - loss: 0.5322 - accuracy: 0.9532 - val_loss: 0.5311 - val_accuracy: 0.9546\n",
            "Epoch 17/30\n",
            "391/391 [==============================] - 1s 4ms/step - loss: 0.5265 - accuracy: 0.9528 - val_loss: 0.5182 - val_accuracy: 0.9593\n",
            "Epoch 18/30\n",
            "391/391 [==============================] - 1s 4ms/step - loss: 0.5218 - accuracy: 0.9541 - val_loss: 0.5246 - val_accuracy: 0.9539\n",
            "Epoch 19/30\n",
            "391/391 [==============================] - 1s 4ms/step - loss: 0.5161 - accuracy: 0.9541 - val_loss: 0.5051 - val_accuracy: 0.9586\n",
            "Epoch 20/30\n",
            "391/391 [==============================] - 1s 4ms/step - loss: 0.5115 - accuracy: 0.9552 - val_loss: 0.5178 - val_accuracy: 0.9530\n",
            "Epoch 21/30\n",
            "391/391 [==============================] - 2s 5ms/step - loss: 0.5066 - accuracy: 0.9556 - val_loss: 0.4864 - val_accuracy: 0.9626\n",
            "Epoch 22/30\n",
            "391/391 [==============================] - 2s 4ms/step - loss: 0.5042 - accuracy: 0.9560 - val_loss: 0.4995 - val_accuracy: 0.9565\n",
            "Epoch 23/30\n",
            "391/391 [==============================] - 2s 4ms/step - loss: 0.5008 - accuracy: 0.9558 - val_loss: 0.5078 - val_accuracy: 0.9555\n",
            "Epoch 24/30\n",
            "391/391 [==============================] - 2s 4ms/step - loss: 0.4969 - accuracy: 0.9565 - val_loss: 0.4984 - val_accuracy: 0.9556\n",
            "Epoch 25/30\n",
            "391/391 [==============================] - 1s 4ms/step - loss: 0.4936 - accuracy: 0.9573 - val_loss: 0.4932 - val_accuracy: 0.9567\n",
            "Epoch 26/30\n",
            "391/391 [==============================] - 1s 4ms/step - loss: 0.4912 - accuracy: 0.9576 - val_loss: 0.4855 - val_accuracy: 0.9596\n",
            "Epoch 27/30\n",
            "391/391 [==============================] - 2s 4ms/step - loss: 0.4888 - accuracy: 0.9574 - val_loss: 0.4699 - val_accuracy: 0.9648\n",
            "Epoch 28/30\n",
            "391/391 [==============================] - 2s 4ms/step - loss: 0.4851 - accuracy: 0.9588 - val_loss: 0.4736 - val_accuracy: 0.9600\n",
            "Epoch 29/30\n",
            "391/391 [==============================] - 1s 4ms/step - loss: 0.4841 - accuracy: 0.9588 - val_loss: 0.4787 - val_accuracy: 0.9586\n",
            "Epoch 30/30\n",
            "391/391 [==============================] - 1s 4ms/step - loss: 0.4819 - accuracy: 0.9588 - val_loss: 0.4931 - val_accuracy: 0.9555\n"
          ]
        }
      ]
    },
    {
      "cell_type": "code",
      "source": [
        "pinta_perdida_entrenamiento_validacion(historia1)"
      ],
      "metadata": {
        "id": "Vyv3yFtiFitw",
        "colab": {
          "base_uri": "https://localhost:8080/",
          "height": 295
        },
        "outputId": "ae6935eb-4f9a-4dd8-e91e-fb778b188454"
      },
      "execution_count": null,
      "outputs": [
        {
          "output_type": "display_data",
          "data": {
            "text/plain": [
              "<Figure size 432x288 with 1 Axes>"
            ],
            "image/png": "[encoded data removed]"
          },
          "metadata": {
            "needs_background": "light"
          }
        }
      ]
    },
    {
      "cell_type": "code",
      "source": [
        "pinta_precision_entrenamiento_validacion(historia1)"
      ],
      "metadata": {
        "id": "pVUerJsqFo7K",
        "colab": {
          "base_uri": "https://localhost:8080/",
          "height": 295
        },
        "outputId": "33957d86-65a8-40c2-dae9-62c9b7428fd3"
      },
      "execution_count": null,
      "outputs": [
        {
          "output_type": "display_data",
          "data": {
            "text/plain": [
              "<Figure size 432x288 with 1 Axes>"
            ],
            "image/png": "[encoded data removed]"
          },
          "metadata": {
            "needs_background": "light"
          }
        }
      ]
    },
    {
      "cell_type": "markdown",
      "source": [
        "### Caso 2: Con regularizador l2"
      ],
      "metadata": {
        "id": "hklwKNlMBzya"
      }
    },
    {
      "cell_type": "code",
      "source": [
        "network2 = crea_modelo(2)"
      ],
      "metadata": {
        "id": "tjIs0FziG5Ja",
        "colab": {
          "base_uri": "https://localhost:8080/"
        },
        "outputId": "bcbed91d-7497-484f-c113-b4a3b2ae4f23"
      },
      "execution_count": null,
      "outputs": [
        {
          "output_type": "stream",
          "name": "stdout",
          "text": [
            "Model: \"sequential_2\"\n",
            "_________________________________________________________________\n",
            " Layer (type)                Output Shape              Param #   \n",
            "=================================================================\n",
            " dense_4 (Dense)             (None, 512)               401920    \n",
            "                                                                 \n",
            " dense_5 (Dense)             (None, 10)                5130      \n",
            "                                                                 \n",
            "=================================================================\n",
            "Total params: 407,050\n",
            "Trainable params: 407,050\n",
            "Non-trainable params: 0\n",
            "_________________________________________________________________\n"
          ]
        }
      ]
    },
    {
      "cell_type": "code",
      "source": [
        "network2 = compila_modelo(network2)"
      ],
      "metadata": {
        "id": "UCdA0K_qyTUq"
      },
      "execution_count": null,
      "outputs": []
    },
    {
      "cell_type": "code",
      "source": [
        "historia2 = entrena_modelo(network2)"
      ],
      "metadata": {
        "id": "WSuomx5oybpu",
        "colab": {
          "base_uri": "https://localhost:8080/"
        },
        "outputId": "03bdf49a-b924-4fc8-bdf6-4bdaf9f184fd"
      },
      "execution_count": null,
      "outputs": [
        {
          "output_type": "stream",
          "name": "stdout",
          "text": [
            "Epoch 1/30\n",
            "391/391 [==============================] - 2s 4ms/step - loss: 0.5257 - accuracy: 0.9124 - val_loss: 0.3115 - val_accuracy: 0.9511\n",
            "Epoch 2/30\n",
            "391/391 [==============================] - 2s 4ms/step - loss: 0.2655 - accuracy: 0.9548 - val_loss: 0.2289 - val_accuracy: 0.9615\n",
            "Epoch 3/30\n",
            "391/391 [==============================] - 2s 5ms/step - loss: 0.2102 - accuracy: 0.9634 - val_loss: 0.2191 - val_accuracy: 0.9583\n",
            "Epoch 4/30\n",
            "391/391 [==============================] - 1s 4ms/step - loss: 0.1863 - accuracy: 0.9677 - val_loss: 0.1760 - val_accuracy: 0.9713\n",
            "Epoch 5/30\n",
            "391/391 [==============================] - 1s 3ms/step - loss: 0.1724 - accuracy: 0.9691 - val_loss: 0.1926 - val_accuracy: 0.9629\n",
            "Epoch 6/30\n",
            "391/391 [==============================] - 1s 4ms/step - loss: 0.1624 - accuracy: 0.9714 - val_loss: 0.2114 - val_accuracy: 0.9610\n",
            "Epoch 7/30\n",
            "391/391 [==============================] - 1s 4ms/step - loss: 0.1581 - accuracy: 0.9722 - val_loss: 0.1574 - val_accuracy: 0.9725\n",
            "Epoch 8/30\n",
            "391/391 [==============================] - 1s 4ms/step - loss: 0.1517 - accuracy: 0.9738 - val_loss: 0.1651 - val_accuracy: 0.9709\n",
            "Epoch 9/30\n",
            "391/391 [==============================] - 1s 3ms/step - loss: 0.1475 - accuracy: 0.9747 - val_loss: 0.1523 - val_accuracy: 0.9742\n",
            "Epoch 10/30\n",
            "391/391 [==============================] - 2s 4ms/step - loss: 0.1431 - accuracy: 0.9751 - val_loss: 0.1558 - val_accuracy: 0.9719\n",
            "Epoch 11/30\n",
            "391/391 [==============================] - 2s 4ms/step - loss: 0.1404 - accuracy: 0.9762 - val_loss: 0.1401 - val_accuracy: 0.9774\n",
            "Epoch 12/30\n",
            "391/391 [==============================] - 1s 4ms/step - loss: 0.1382 - accuracy: 0.9769 - val_loss: 0.1419 - val_accuracy: 0.9755\n",
            "Epoch 13/30\n",
            "391/391 [==============================] - 1s 4ms/step - loss: 0.1338 - accuracy: 0.9773 - val_loss: 0.1504 - val_accuracy: 0.9720\n",
            "Epoch 14/30\n",
            "391/391 [==============================] - 1s 3ms/step - loss: 0.1324 - accuracy: 0.9777 - val_loss: 0.1431 - val_accuracy: 0.9740\n",
            "Epoch 15/30\n",
            "391/391 [==============================] - 2s 4ms/step - loss: 0.1311 - accuracy: 0.9778 - val_loss: 0.1419 - val_accuracy: 0.9753\n",
            "Epoch 16/30\n",
            "391/391 [==============================] - 1s 3ms/step - loss: 0.1280 - accuracy: 0.9776 - val_loss: 0.1536 - val_accuracy: 0.9693\n",
            "Epoch 17/30\n",
            "391/391 [==============================] - 2s 4ms/step - loss: 0.1247 - accuracy: 0.9791 - val_loss: 0.1418 - val_accuracy: 0.9762\n",
            "Epoch 18/30\n",
            "391/391 [==============================] - 2s 4ms/step - loss: 0.1238 - accuracy: 0.9789 - val_loss: 0.1323 - val_accuracy: 0.9770\n",
            "Epoch 19/30\n",
            "391/391 [==============================] - 2s 4ms/step - loss: 0.1221 - accuracy: 0.9793 - val_loss: 0.1634 - val_accuracy: 0.9698\n",
            "Epoch 20/30\n",
            "391/391 [==============================] - 2s 4ms/step - loss: 0.1224 - accuracy: 0.9795 - val_loss: 0.1388 - val_accuracy: 0.9753\n",
            "Epoch 21/30\n",
            "391/391 [==============================] - 1s 4ms/step - loss: 0.1184 - accuracy: 0.9803 - val_loss: 0.1622 - val_accuracy: 0.9700\n",
            "Epoch 22/30\n",
            "391/391 [==============================] - 2s 4ms/step - loss: 0.1190 - accuracy: 0.9796 - val_loss: 0.1623 - val_accuracy: 0.9677\n",
            "Epoch 23/30\n",
            "391/391 [==============================] - 1s 4ms/step - loss: 0.1158 - accuracy: 0.9808 - val_loss: 0.1657 - val_accuracy: 0.9660\n",
            "Epoch 24/30\n",
            "391/391 [==============================] - 2s 4ms/step - loss: 0.1153 - accuracy: 0.9806 - val_loss: 0.1373 - val_accuracy: 0.9759\n",
            "Epoch 25/30\n",
            "391/391 [==============================] - 1s 4ms/step - loss: 0.1134 - accuracy: 0.9815 - val_loss: 0.1720 - val_accuracy: 0.9678\n",
            "Epoch 26/30\n",
            "391/391 [==============================] - 1s 3ms/step - loss: 0.1122 - accuracy: 0.9811 - val_loss: 0.1505 - val_accuracy: 0.9726\n",
            "Epoch 27/30\n",
            "391/391 [==============================] - 1s 3ms/step - loss: 0.1110 - accuracy: 0.9816 - val_loss: 0.1424 - val_accuracy: 0.9717\n",
            "Epoch 28/30\n",
            "391/391 [==============================] - 1s 4ms/step - loss: 0.1085 - accuracy: 0.9823 - val_loss: 0.1334 - val_accuracy: 0.9739\n",
            "Epoch 29/30\n",
            "391/391 [==============================] - 1s 4ms/step - loss: 0.1089 - accuracy: 0.9821 - val_loss: 0.1512 - val_accuracy: 0.9691\n",
            "Epoch 30/30\n",
            "391/391 [==============================] - 2s 4ms/step - loss: 0.1090 - accuracy: 0.9815 - val_loss: 0.1301 - val_accuracy: 0.9774\n"
          ]
        }
      ]
    },
    {
      "cell_type": "code",
      "source": [
        "pinta_perdida_entrenamiento_validacion(historia2)"
      ],
      "metadata": {
        "id": "aXXzm8tpyj6X",
        "colab": {
          "base_uri": "https://localhost:8080/",
          "height": 295
        },
        "outputId": "40c3b9d1-a4ef-493c-83dc-be3f9540c8dd"
      },
      "execution_count": null,
      "outputs": [
        {
          "output_type": "display_data",
          "data": {
            "text/plain": [
              "<Figure size 432x288 with 1 Axes>"
            ],
            "image/png": "[encoded data removed]"
          },
          "metadata": {
            "needs_background": "light"
          }
        }
      ]
    },
    {
      "cell_type": "code",
      "source": [
        "pinta_precision_entrenamiento_validacion(historia2)"
      ],
      "metadata": {
        "id": "CLTsg5LTypH9",
        "colab": {
          "base_uri": "https://localhost:8080/",
          "height": 295
        },
        "outputId": "2070215c-f4f8-4c21-d9e4-a06fa56c2e92"
      },
      "execution_count": null,
      "outputs": [
        {
          "output_type": "display_data",
          "data": {
            "text/plain": [
              "<Figure size 432x288 with 1 Axes>"
            ],
            "image/png": "[encoded data removed]"
          },
          "metadata": {
            "needs_background": "light"
          }
        }
      ]
    },
    {
      "cell_type": "markdown",
      "source": [
        "### Caso 3: Con regularizador l1_l2"
      ],
      "metadata": {
        "id": "692oWz8oB82n"
      }
    },
    {
      "cell_type": "code",
      "source": [
        "network3 = crea_modelo(3)"
      ],
      "metadata": {
        "id": "5fdxkjoKzFcu",
        "colab": {
          "base_uri": "https://localhost:8080/"
        },
        "outputId": "3a3dae6e-3dea-41e9-a943-85112c2d05cb"
      },
      "execution_count": null,
      "outputs": [
        {
          "output_type": "stream",
          "name": "stdout",
          "text": [
            "Model: \"sequential_3\"\n",
            "_________________________________________________________________\n",
            " Layer (type)                Output Shape              Param #   \n",
            "=================================================================\n",
            " dense_6 (Dense)             (None, 512)               401920    \n",
            "                                                                 \n",
            " dense_7 (Dense)             (None, 10)                5130      \n",
            "                                                                 \n",
            "=================================================================\n",
            "Total params: 407,050\n",
            "Trainable params: 407,050\n",
            "Non-trainable params: 0\n",
            "_________________________________________________________________\n"
          ]
        }
      ]
    },
    {
      "cell_type": "code",
      "source": [
        "network3 = compila_modelo(network3)"
      ],
      "metadata": {
        "id": "VJzs9A2yzPhx"
      },
      "execution_count": null,
      "outputs": []
    },
    {
      "cell_type": "code",
      "source": [
        "historia3 = entrena_modelo(network3)"
      ],
      "metadata": {
        "id": "1JCUbcCQzY6E",
        "colab": {
          "base_uri": "https://localhost:8080/"
        },
        "outputId": "32f24773-55cc-44b2-f2c0-85eec9f2be6a"
      },
      "execution_count": null,
      "outputs": [
        {
          "output_type": "stream",
          "name": "stdout",
          "text": [
            "Epoch 1/30\n",
            "391/391 [==============================] - 2s 4ms/step - loss: 2.3490 - accuracy: 0.8239 - val_loss: 1.0421 - val_accuracy: 0.8886\n",
            "Epoch 2/30\n",
            "391/391 [==============================] - 1s 4ms/step - loss: 1.0668 - accuracy: 0.8556 - val_loss: 1.0112 - val_accuracy: 0.8812\n",
            "Epoch 3/30\n",
            "391/391 [==============================] - 1s 3ms/step - loss: 0.9567 - accuracy: 0.8755 - val_loss: 0.8852 - val_accuracy: 0.9025\n",
            "Epoch 4/30\n",
            "391/391 [==============================] - 2s 4ms/step - loss: 0.8801 - accuracy: 0.8915 - val_loss: 0.8546 - val_accuracy: 0.8946\n",
            "Epoch 5/30\n",
            "391/391 [==============================] - 2s 4ms/step - loss: 0.8266 - accuracy: 0.9024 - val_loss: 0.8021 - val_accuracy: 0.9162\n",
            "Epoch 6/30\n",
            "391/391 [==============================] - 1s 3ms/step - loss: 0.7816 - accuracy: 0.9099 - val_loss: 0.7113 - val_accuracy: 0.9328\n",
            "Epoch 7/30\n",
            "391/391 [==============================] - 1s 3ms/step - loss: 0.7522 - accuracy: 0.9152 - val_loss: 0.7331 - val_accuracy: 0.9210\n",
            "Epoch 8/30\n",
            "391/391 [==============================] - 1s 3ms/step - loss: 0.7259 - accuracy: 0.9210 - val_loss: 0.7086 - val_accuracy: 0.9275\n",
            "Epoch 9/30\n",
            "391/391 [==============================] - 1s 4ms/step - loss: 0.7016 - accuracy: 0.9249 - val_loss: 0.6640 - val_accuracy: 0.9385\n",
            "Epoch 10/30\n",
            "391/391 [==============================] - 1s 4ms/step - loss: 0.6850 - accuracy: 0.9275 - val_loss: 0.7652 - val_accuracy: 0.9074\n",
            "Epoch 11/30\n",
            "391/391 [==============================] - 1s 3ms/step - loss: 0.6697 - accuracy: 0.9305 - val_loss: 0.6264 - val_accuracy: 0.9420\n",
            "Epoch 12/30\n",
            "391/391 [==============================] - 1s 4ms/step - loss: 0.6569 - accuracy: 0.9321 - val_loss: 0.6339 - val_accuracy: 0.9402\n",
            "Epoch 13/30\n",
            "391/391 [==============================] - 2s 4ms/step - loss: 0.6419 - accuracy: 0.9349 - val_loss: 0.6104 - val_accuracy: 0.9432\n",
            "Epoch 14/30\n",
            "391/391 [==============================] - 1s 4ms/step - loss: 0.6328 - accuracy: 0.9353 - val_loss: 0.6431 - val_accuracy: 0.9321\n",
            "Epoch 15/30\n",
            "391/391 [==============================] - 1s 3ms/step - loss: 0.6235 - accuracy: 0.9370 - val_loss: 0.6473 - val_accuracy: 0.9295\n",
            "Epoch 16/30\n",
            "391/391 [==============================] - 1s 3ms/step - loss: 0.6137 - accuracy: 0.9408 - val_loss: 0.5862 - val_accuracy: 0.9463\n",
            "Epoch 17/30\n",
            "391/391 [==============================] - 2s 4ms/step - loss: 0.6042 - accuracy: 0.9412 - val_loss: 0.5969 - val_accuracy: 0.9393\n",
            "Epoch 18/30\n",
            "391/391 [==============================] - 1s 4ms/step - loss: 0.5977 - accuracy: 0.9414 - val_loss: 0.5954 - val_accuracy: 0.9427\n",
            "Epoch 19/30\n",
            "391/391 [==============================] - 1s 4ms/step - loss: 0.5922 - accuracy: 0.9431 - val_loss: 0.5769 - val_accuracy: 0.9472\n",
            "Epoch 20/30\n",
            "391/391 [==============================] - 2s 4ms/step - loss: 0.5840 - accuracy: 0.9446 - val_loss: 0.5640 - val_accuracy: 0.9536\n",
            "Epoch 21/30\n",
            "391/391 [==============================] - 1s 4ms/step - loss: 0.5792 - accuracy: 0.9454 - val_loss: 0.5548 - val_accuracy: 0.9527\n",
            "Epoch 22/30\n",
            "391/391 [==============================] - 1s 4ms/step - loss: 0.5744 - accuracy: 0.9443 - val_loss: 0.5850 - val_accuracy: 0.9360\n",
            "Epoch 23/30\n",
            "391/391 [==============================] - 2s 5ms/step - loss: 0.5671 - accuracy: 0.9457 - val_loss: 0.5454 - val_accuracy: 0.9543\n",
            "Epoch 24/30\n",
            "391/391 [==============================] - 2s 5ms/step - loss: 0.5642 - accuracy: 0.9455 - val_loss: 0.6046 - val_accuracy: 0.9365\n",
            "Epoch 25/30\n",
            "391/391 [==============================] - 1s 4ms/step - loss: 0.5600 - accuracy: 0.9469 - val_loss: 0.5302 - val_accuracy: 0.9591\n",
            "Epoch 26/30\n",
            "391/391 [==============================] - 1s 4ms/step - loss: 0.5565 - accuracy: 0.9472 - val_loss: 0.5275 - val_accuracy: 0.9555\n",
            "Epoch 27/30\n",
            "391/391 [==============================] - 2s 4ms/step - loss: 0.5514 - accuracy: 0.9485 - val_loss: 0.5760 - val_accuracy: 0.9442\n",
            "Epoch 28/30\n",
            "391/391 [==============================] - 1s 4ms/step - loss: 0.5507 - accuracy: 0.9483 - val_loss: 0.5298 - val_accuracy: 0.9582\n",
            "Epoch 29/30\n",
            "391/391 [==============================] - 2s 4ms/step - loss: 0.5464 - accuracy: 0.9503 - val_loss: 0.5284 - val_accuracy: 0.9573\n",
            "Epoch 30/30\n",
            "391/391 [==============================] - 1s 4ms/step - loss: 0.5463 - accuracy: 0.9485 - val_loss: 0.5732 - val_accuracy: 0.9418\n"
          ]
        }
      ]
    },
    {
      "cell_type": "code",
      "source": [
        "pinta_perdida_entrenamiento_validacion(historia3)"
      ],
      "metadata": {
        "id": "I8XzPVtyze8y",
        "colab": {
          "base_uri": "https://localhost:8080/",
          "height": 295
        },
        "outputId": "09e621b7-720a-4ceb-8413-4158ea6518c6"
      },
      "execution_count": null,
      "outputs": [
        {
          "output_type": "display_data",
          "data": {
            "text/plain": [
              "<Figure size 432x288 with 1 Axes>"
            ],
            "image/png": "[encoded data removed]"
          },
          "metadata": {
            "needs_background": "light"
          }
        }
      ]
    },
    {
      "cell_type": "code",
      "source": [
        "pinta_precision_entrenamiento_validacion(historia3)"
      ],
      "metadata": {
        "id": "nKk7AmM8zi3A",
        "colab": {
          "base_uri": "https://localhost:8080/",
          "height": 295
        },
        "outputId": "b7bf7a74-58c9-42ce-f4dd-8b2090cdfa85"
      },
      "execution_count": null,
      "outputs": [
        {
          "output_type": "display_data",
          "data": {
            "text/plain": [
              "<Figure size 432x288 with 1 Axes>"
            ],
            "image/png": "[encoded data removed]"
          },
          "metadata": {
            "needs_background": "light"
          }
        }
      ]
    },
    {
      "cell_type": "markdown",
      "source": [
        "### Caso 4: Con Droput"
      ],
      "metadata": {
        "id": "OPVcbgcXCFRL"
      }
    },
    {
      "cell_type": "code",
      "source": [
        "network4 = crea_modelo(4)"
      ],
      "metadata": {
        "id": "5MVbUNX11Pgr",
        "colab": {
          "base_uri": "https://localhost:8080/"
        },
        "outputId": "a8c940ef-edb4-4c06-d7f8-28a94475185f"
      },
      "execution_count": 28,
      "outputs": [
        {
          "output_type": "stream",
          "name": "stdout",
          "text": [
            "Model: \"sequential_4\"\n",
            "_________________________________________________________________\n",
            " Layer (type)                Output Shape              Param #   \n",
            "=================================================================\n",
            " dense_6 (Dense)             (None, 512)               401920    \n",
            "                                                                 \n",
            " dropout_3 (Dropout)         (None, 512)               0         \n",
            "                                                                 \n",
            " dense_7 (Dense)             (None, 10)                5130      \n",
            "                                                                 \n",
            "=================================================================\n",
            "Total params: 407,050\n",
            "Trainable params: 407,050\n",
            "Non-trainable params: 0\n",
            "_________________________________________________________________\n"
          ]
        }
      ]
    },
    {
      "cell_type": "code",
      "source": [
        "network4 = compila_modelo(network4)"
      ],
      "metadata": {
        "id": "pT-13IKI1UpW"
      },
      "execution_count": 29,
      "outputs": []
    },
    {
      "cell_type": "code",
      "source": [
        "historia4 = entrena_modelo(network4)"
      ],
      "metadata": {
        "id": "kNWidx1S1aCH",
        "colab": {
          "base_uri": "https://localhost:8080/"
        },
        "outputId": "ed0c4a79-08e5-47c0-99ca-2ba0711bf17c"
      },
      "execution_count": 30,
      "outputs": [
        {
          "output_type": "stream",
          "name": "stdout",
          "text": [
            "Epoch 1/30\n",
            "391/391 [==============================] - 2s 4ms/step - loss: 0.3753 - accuracy: 0.8885 - val_loss: 0.1757 - val_accuracy: 0.9504\n",
            "Epoch 2/30\n",
            "391/391 [==============================] - 2s 4ms/step - loss: 0.1914 - accuracy: 0.9433 - val_loss: 0.1256 - val_accuracy: 0.9649\n",
            "Epoch 3/30\n",
            "391/391 [==============================] - 1s 4ms/step - loss: 0.1504 - accuracy: 0.9549 - val_loss: 0.1037 - val_accuracy: 0.9696\n",
            "Epoch 4/30\n",
            "391/391 [==============================] - 1s 4ms/step - loss: 0.1260 - accuracy: 0.9631 - val_loss: 0.0948 - val_accuracy: 0.9712\n",
            "Epoch 5/30\n",
            "391/391 [==============================] - 1s 4ms/step - loss: 0.1136 - accuracy: 0.9660 - val_loss: 0.0880 - val_accuracy: 0.9744\n",
            "Epoch 6/30\n",
            "391/391 [==============================] - 1s 4ms/step - loss: 0.1020 - accuracy: 0.9709 - val_loss: 0.0853 - val_accuracy: 0.9756\n",
            "Epoch 7/30\n",
            "391/391 [==============================] - 2s 4ms/step - loss: 0.0923 - accuracy: 0.9721 - val_loss: 0.0851 - val_accuracy: 0.9754\n",
            "Epoch 8/30\n",
            "391/391 [==============================] - 1s 4ms/step - loss: 0.0903 - accuracy: 0.9732 - val_loss: 0.0814 - val_accuracy: 0.9781\n",
            "Epoch 9/30\n",
            "391/391 [==============================] - 1s 4ms/step - loss: 0.0836 - accuracy: 0.9755 - val_loss: 0.0813 - val_accuracy: 0.9783\n",
            "Epoch 10/30\n",
            "391/391 [==============================] - 1s 4ms/step - loss: 0.0807 - accuracy: 0.9756 - val_loss: 0.0804 - val_accuracy: 0.9764\n",
            "Epoch 11/30\n",
            "391/391 [==============================] - 2s 4ms/step - loss: 0.0762 - accuracy: 0.9777 - val_loss: 0.0802 - val_accuracy: 0.9791\n",
            "Epoch 12/30\n",
            "391/391 [==============================] - 2s 4ms/step - loss: 0.0739 - accuracy: 0.9788 - val_loss: 0.0759 - val_accuracy: 0.9790\n",
            "Epoch 13/30\n",
            "391/391 [==============================] - 2s 4ms/step - loss: 0.0717 - accuracy: 0.9799 - val_loss: 0.0847 - val_accuracy: 0.9793\n",
            "Epoch 14/30\n",
            "391/391 [==============================] - 2s 4ms/step - loss: 0.0676 - accuracy: 0.9804 - val_loss: 0.0813 - val_accuracy: 0.9802\n",
            "Epoch 15/30\n",
            "391/391 [==============================] - 2s 4ms/step - loss: 0.0634 - accuracy: 0.9813 - val_loss: 0.0816 - val_accuracy: 0.9796\n",
            "Epoch 16/30\n",
            "391/391 [==============================] - 2s 4ms/step - loss: 0.0662 - accuracy: 0.9813 - val_loss: 0.0832 - val_accuracy: 0.9798\n",
            "Epoch 17/30\n",
            "391/391 [==============================] - 1s 4ms/step - loss: 0.0621 - accuracy: 0.9823 - val_loss: 0.0852 - val_accuracy: 0.9800\n",
            "Epoch 18/30\n",
            "391/391 [==============================] - 2s 4ms/step - loss: 0.0561 - accuracy: 0.9840 - val_loss: 0.0846 - val_accuracy: 0.9812\n",
            "Epoch 19/30\n",
            "391/391 [==============================] - 2s 4ms/step - loss: 0.0561 - accuracy: 0.9839 - val_loss: 0.0890 - val_accuracy: 0.9809\n",
            "Epoch 20/30\n",
            "391/391 [==============================] - 1s 4ms/step - loss: 0.0570 - accuracy: 0.9833 - val_loss: 0.0847 - val_accuracy: 0.9817\n",
            "Epoch 21/30\n",
            "391/391 [==============================] - 1s 4ms/step - loss: 0.0549 - accuracy: 0.9850 - val_loss: 0.0865 - val_accuracy: 0.9807\n",
            "Epoch 22/30\n",
            "391/391 [==============================] - 1s 4ms/step - loss: 0.0545 - accuracy: 0.9847 - val_loss: 0.0840 - val_accuracy: 0.9813\n",
            "Epoch 23/30\n",
            "391/391 [==============================] - 1s 4ms/step - loss: 0.0517 - accuracy: 0.9854 - val_loss: 0.0866 - val_accuracy: 0.9816\n",
            "Epoch 24/30\n",
            "391/391 [==============================] - 2s 4ms/step - loss: 0.0524 - accuracy: 0.9857 - val_loss: 0.0915 - val_accuracy: 0.9814\n",
            "Epoch 25/30\n",
            "391/391 [==============================] - 1s 4ms/step - loss: 0.0497 - accuracy: 0.9861 - val_loss: 0.0903 - val_accuracy: 0.9824\n",
            "Epoch 26/30\n",
            "391/391 [==============================] - 2s 4ms/step - loss: 0.0493 - accuracy: 0.9859 - val_loss: 0.0892 - val_accuracy: 0.9809\n",
            "Epoch 27/30\n",
            "391/391 [==============================] - 1s 4ms/step - loss: 0.0489 - accuracy: 0.9862 - val_loss: 0.0890 - val_accuracy: 0.9817\n",
            "Epoch 28/30\n",
            "391/391 [==============================] - 1s 4ms/step - loss: 0.0468 - accuracy: 0.9866 - val_loss: 0.0927 - val_accuracy: 0.9830\n",
            "Epoch 29/30\n",
            "391/391 [==============================] - 2s 4ms/step - loss: 0.0488 - accuracy: 0.9866 - val_loss: 0.0966 - val_accuracy: 0.9812\n",
            "Epoch 30/30\n",
            "391/391 [==============================] - 1s 4ms/step - loss: 0.0456 - accuracy: 0.9872 - val_loss: 0.0926 - val_accuracy: 0.9826\n"
          ]
        }
      ]
    },
    {
      "cell_type": "code",
      "source": [
        "pinta_perdida_entrenamiento_validacion(historia4)"
      ],
      "metadata": {
        "id": "R9pI34Yr1gBO",
        "colab": {
          "base_uri": "https://localhost:8080/",
          "height": 295
        },
        "outputId": "ca1ee811-d568-4e7e-f353-2757063e11e1"
      },
      "execution_count": 31,
      "outputs": [
        {
          "output_type": "display_data",
          "data": {
            "text/plain": [
              "<Figure size 432x288 with 1 Axes>"
            ],
            "image/png": "[encoded data removed]"
          },
          "metadata": {
            "needs_background": "light"
          }
        }
      ]
    },
    {
      "cell_type": "code",
      "source": [
        "pinta_precision_entrenamiento_validacion(historia4)"
      ],
      "metadata": {
        "id": "EwEIEOKx1lQr",
        "colab": {
          "base_uri": "https://localhost:8080/",
          "height": 295
        },
        "outputId": "ba5fee3e-df4d-48a1-f949-345c32de2f59"
      },
      "execution_count": 32,
      "outputs": [
        {
          "output_type": "display_data",
          "data": {
            "text/plain": [
              "<Figure size 432x288 with 1 Axes>"
            ],
            "image/png": "[encoded data removed]"
          },
          "metadata": {
            "needs_background": "light"
          }
        }
      ]
    },
    {
      "cell_type": "markdown",
      "source": [
        "### Caso 5: Error de código de regularizador"
      ],
      "metadata": {
        "id": "e6rlKx2nCOgU"
      }
    },
    {
      "cell_type": "code",
      "source": [
        "network5 = crea_modelo(5)"
      ],
      "metadata": {
        "id": "SqGDm8VM1rwR",
        "outputId": "26624506-8451-4b7b-d8db-77f1959a87c6",
        "colab": {
          "base_uri": "https://localhost:8080/"
        }
      },
      "execution_count": 10,
      "outputs": [
        {
          "output_type": "stream",
          "name": "stdout",
          "text": [
            "Error. Debe ser un número del 0 al 4\n"
          ]
        }
      ]
    },
    {
      "cell_type": "markdown",
      "source": [
        "### CONCLUSIONES"
      ],
      "metadata": {
        "id": "IklUu29cCcVe"
      }
    },
    {
      "cell_type": "markdown",
      "source": [
        "**Primer Caso**: Cuando no hay regularizador, observamos que en la gráfica de pérdida de entrenamiento y validación, se produce un sobreentrenamiento pues la función de entrenamiento dista mucho de la función de validación.\n",
        "Esto mismo pasa en la gráfica que mide la precisión de entrenamiento y validación. Ambas funciones distan mucho de coincidir.\n",
        "\n",
        "**Segundo Caso:** Cuando se utiliza el regularizador `l1`, nos damos cuenta de que analizando la gráfica de pérdida, los datos se van ajustando más a la realidad, aun sin llegar a coincir al 100%, con algunos picos de sobreentrenamiento. Sin embargo, la precisión es inestable, en algunos casos lo hará bien, pero en muchos otros no será muy preciso.\n",
        "\n",
        "Esto mismo pasará con el **tercer caso**, donde se ejecutará con el regularizador `l2`. La segunda gráfica (precisión), será igual de inestable que en el caso anterior, además, en este, la primera gráfica no estará tan ajustada, es decir, que se produce más sobreentrenamiento.\n",
        "\n",
        "En el **cuarto caso**, utilizando el regularizador `l1_l2`, analizando la gráfica de la pérdida, observamos que es notablemente mejor en cuanto al resto de casos, sin embargo, la de la precisión se mantiene similar a las gráficas anteriores.\n",
        "\n",
        "Por último, el **quinto caso**, utilizando un `dropout` del 50%, que es una función que trata de evitar el sobreentrenamiendo, ambas en ambas gráficas se puede observar que se produce un sobreentrenamiento. Sin embargo, si utilizamos un dropout del 60-70% ambas gráficas se estabilizan, aunque posiblemente se pierda generalidad.\n",
        "\n",
        "Finalmente, **concluimos** que el mejor regularizador es el `l1_l2` que es el que tiene la mejor precisión.\n"
      ],
      "metadata": {
        "id": "cB_OYjjaChzN"
      }
    }
  ]
}